{
  "nbformat": 4,
  "nbformat_minor": 0,
  "metadata": {
    "colab": {
      "name": "Efficient Filter Usage for CNNs.ipynb",
      "version": "0.3.2",
      "provenance": [],
      "collapsed_sections": [],
      "include_colab_link": true
    },
    "kernelspec": {
      "name": "python3",
      "display_name": "Python 3"
    },
    "accelerator": "GPU"
  },
  "cells": [
    {
      "cell_type": "markdown",
      "metadata": {
        "id": "view-in-github",
        "colab_type": "text"
      },
      "source": [
        "<a href=\"https://colab.research.google.com/github/NarendraPatwardhan/quicksilver/blob/master/Efficient_Filter_Usage_for_CNNs.ipynb\" target=\"_parent\"><img src=\"https://colab.research.google.com/assets/colab-badge.svg\" alt=\"Open In Colab\"/></a>"
      ]
    },
    {
      "metadata": {
        "id": "QCGZehNApKyW",
        "colab_type": "text"
      },
      "cell_type": "markdown",
      "source": [
        "# Efficient Filter Usage in Convolutional Neural Networks\n",
        "\n",
        "\n",
        "This notebook shows the traditional approach of using **n x n** convolution filters and how by using consecutive** n x 1** and **1 x n** filters instead significantly reduces the number of parameters needed while maintaining the accuracy level.\n",
        "\n",
        "A convolutional layer is defined by stacking *m* filters of size *$n_1$ x $n_2$*. When such a layer receives input with *c* channels, the number of parameters *$P$*  is given by:\n",
        "\n",
        ">$P = W + B$\n",
        "\n",
        "where *W* stands for the number of weights  and *B* stands for the number of biases in the convolutional layer and are obtained using the following equations.\n",
        "\n",
        ">$W = n_1n_2 mc$ \n",
        "\n",
        ">$B = m$ \n",
        "\n",
        "thus when using the traditional approach with $n_1 = n_2 = n$ \n",
        "\n",
        ">$P_0 = m(n^2c + 1)$\n",
        "\n",
        "replaceing this layer with combination of 2 seperate layers  having *m* filters with  *(n x 1)* and *(1 x n)* as filter sizes respectively  causes the number of parameters to be changed into:\n",
        "\n",
        ">$P_1 = W_1 + B_1 + W_2 + B_2$\n",
        "\n",
        "Using the base equation,\n",
        "\n",
        ">$W_1 = nmc$\n",
        "\n",
        ">$W_2 = nm^2$\n",
        "\n",
        ">$B_1 = B_2 = m$\n",
        "\n",
        "thus,\n",
        "\n",
        ">$P _1= m(nc + nm + 2)$\n",
        "\n",
        "\n",
        "Therefore replacing a layer is only advantageous when,\n",
        ">$P_0 \\geq P_1$\n",
        "\n",
        ">$m(n^2c + 1) \\geq m(nc + nm + 2)$\n",
        "\n",
        ">$n \\geq (1 + m/c + 1/cn)$ \n",
        "\n",
        "since $1/n << m$ in most cases, we can have an approximate rule of thumb for replacement as\n",
        "\n",
        ">$n > (1 + m/c)$ \n"
      ]
    },
    {
      "metadata": {
        "id": "gCKy7a3bn3Vl",
        "colab_type": "code",
        "colab": {}
      },
      "cell_type": "code",
      "source": [
        "import tensorflow as tf\n",
        "from tensorflow.keras import datasets, layers, models"
      ],
      "execution_count": 0,
      "outputs": []
    },
    {
      "metadata": {
        "id": "IERNX3RKn445",
        "colab_type": "code",
        "colab": {}
      },
      "cell_type": "code",
      "source": [
        "(train_images, train_labels), (test_images, test_labels) = datasets.mnist.load_data()\n",
        "\n",
        "train_images = train_images.reshape((60000, 28, 28, 1))\n",
        "test_images = test_images.reshape((10000, 28, 28, 1))\n",
        "\n",
        "train_images, test_images = train_images / 255.0, test_images / 255.0"
      ],
      "execution_count": 0,
      "outputs": []
    },
    {
      "metadata": {
        "id": "Up7P86zdqexH",
        "colab_type": "text"
      },
      "cell_type": "markdown",
      "source": [
        "## The conventional model"
      ]
    },
    {
      "metadata": {
        "id": "LcYg12nbn7f3",
        "colab_type": "code",
        "outputId": "7e32d7da-320e-4476-ae67-d1597eefcb06",
        "colab": {
          "base_uri": "https://localhost:8080/",
          "height": 68
        }
      },
      "cell_type": "code",
      "source": [
        "v0 = models.Sequential()\n",
        "v0.add(layers.Conv2D(32, (3, 3), activation='relu', input_shape=(28, 28, 1)))\n",
        "v0.add(layers.MaxPooling2D((2, 2)))\n",
        "v0.add(layers.Conv2D(64, (3, 3), activation='relu'))\n",
        "v0.add(layers.MaxPooling2D((2, 2)))\n",
        "v0.add(layers.Conv2D(64, (3, 3), activation='relu'))\n",
        "v0.add(layers.Flatten())\n",
        "v0.add(layers.Dense(64, activation='relu'))\n",
        "v0.add(layers.Dense(10, activation='softmax'))"
      ],
      "execution_count": 0,
      "outputs": [
        {
          "output_type": "stream",
          "text": [
            "WARNING:tensorflow:From /usr/local/lib/python3.6/dist-packages/tensorflow/python/ops/resource_variable_ops.py:435: colocate_with (from tensorflow.python.framework.ops) is deprecated and will be removed in a future version.\n",
            "Instructions for updating:\n",
            "Colocations handled automatically by placer.\n"
          ],
          "name": "stdout"
        }
      ]
    },
    {
      "metadata": {
        "id": "gZxCq4-kn9Du",
        "colab_type": "code",
        "outputId": "a115dd00-c73b-43b1-e24f-d70d19a4a039",
        "colab": {
          "base_uri": "https://localhost:8080/",
          "height": 408
        }
      },
      "cell_type": "code",
      "source": [
        "v0.summary()"
      ],
      "execution_count": 0,
      "outputs": [
        {
          "output_type": "stream",
          "text": [
            "_________________________________________________________________\n",
            "Layer (type)                 Output Shape              Param #   \n",
            "=================================================================\n",
            "conv2d (Conv2D)              (None, 26, 26, 32)        320       \n",
            "_________________________________________________________________\n",
            "max_pooling2d (MaxPooling2D) (None, 13, 13, 32)        0         \n",
            "_________________________________________________________________\n",
            "conv2d_1 (Conv2D)            (None, 11, 11, 64)        18496     \n",
            "_________________________________________________________________\n",
            "max_pooling2d_1 (MaxPooling2 (None, 5, 5, 64)          0         \n",
            "_________________________________________________________________\n",
            "conv2d_2 (Conv2D)            (None, 3, 3, 64)          36928     \n",
            "_________________________________________________________________\n",
            "flatten (Flatten)            (None, 576)               0         \n",
            "_________________________________________________________________\n",
            "dense (Dense)                (None, 64)                36928     \n",
            "_________________________________________________________________\n",
            "dense_1 (Dense)              (None, 10)                650       \n",
            "=================================================================\n",
            "Total params: 93,322\n",
            "Trainable params: 93,322\n",
            "Non-trainable params: 0\n",
            "_________________________________________________________________\n"
          ],
          "name": "stdout"
        }
      ]
    },
    {
      "metadata": {
        "id": "zqmKGcW-oAqX",
        "colab_type": "code",
        "outputId": "0eadcd63-dc0e-46fe-9684-74c3e362f31f",
        "colab": {
          "base_uri": "https://localhost:8080/",
          "height": 187
        }
      },
      "cell_type": "code",
      "source": [
        "v0.compile(optimizer='adam',\n",
        "              loss='sparse_categorical_crossentropy',\n",
        "              metrics=['accuracy'])\n",
        "\n",
        "_ = v0.fit(train_images, train_labels, epochs=5)"
      ],
      "execution_count": 0,
      "outputs": [
        {
          "output_type": "stream",
          "text": [
            "Epoch 1/5\n",
            "60000/60000 [==============================] - 17s 286us/sample - loss: 0.1549 - acc: 0.9521\n",
            "Epoch 2/5\n",
            "60000/60000 [==============================] - 16s 271us/sample - loss: 0.0470 - acc: 0.9848\n",
            "Epoch 3/5\n",
            "60000/60000 [==============================] - 16s 270us/sample - loss: 0.0342 - acc: 0.9893\n",
            "Epoch 4/5\n",
            "60000/60000 [==============================] - 16s 273us/sample - loss: 0.0276 - acc: 0.9914\n",
            "Epoch 5/5\n",
            "60000/60000 [==============================] - 16s 268us/sample - loss: 0.0206 - acc: 0.9934\n"
          ],
          "name": "stdout"
        }
      ]
    },
    {
      "metadata": {
        "id": "xdQwVD1koGaH",
        "colab_type": "code",
        "outputId": "f9e40a7a-49d6-4f98-b9c8-5af0c56012b7",
        "colab": {
          "base_uri": "https://localhost:8080/",
          "height": 51
        }
      },
      "cell_type": "code",
      "source": [
        "_, test_acc = v0.evaluate(test_images, test_labels)\n",
        "\n",
        "print(test_acc)"
      ],
      "execution_count": 0,
      "outputs": [
        {
          "output_type": "stream",
          "text": [
            "10000/10000 [==============================] - 1s 109us/sample - loss: 0.0340 - acc: 0.9897\n",
            "0.9897\n"
          ],
          "name": "stdout"
        }
      ]
    },
    {
      "metadata": {
        "id": "BtGWDiYQ3R7s",
        "colab_type": "text"
      },
      "cell_type": "markdown",
      "source": [
        "## The Efficient Filter Model\n",
        "\n",
        "In the 3 convolutional layers in the network used before, we use the following table to know whether to replace the layer or not.\n",
        "\n",
        "| Layer | n | m  | c  | m/c | n>m/c | replace? |\n",
        "|-------|---|----|----|-----|-------|----------|\n",
        "| 1     | 3 | 32 | 1  | 32  | False | No       |\n",
        "| 2     | 3 | 64 | 32 | 2   | False | No       |\n",
        "| 3     | 3 | 64 | 64 | 1   | True  | Yes    |"
      ]
    },
    {
      "metadata": {
        "id": "kllfJodroIJO",
        "colab_type": "code",
        "colab": {}
      },
      "cell_type": "code",
      "source": [
        "v1 = models.Sequential()\n",
        "v1.add(layers.Conv2D(32, (3, 3), activation='relu', input_shape=(28, 28, 1)))\n",
        "v1.add(layers.MaxPooling2D((2, 2)))\n",
        "v1.add(layers.Conv2D(64, (3, 3), activation='relu'))\n",
        "v1.add(layers.MaxPooling2D((2, 2)))\n",
        "v1.add(layers.Conv2D(64, (3, 1), activation='relu'))\n",
        "v1.add(layers.Conv2D(64, (1, 3), activation='relu'))\n",
        "v1.add(layers.Flatten())\n",
        "v1.add(layers.Dense(64, activation='relu'))\n",
        "v1.add(layers.Dense(10, activation='softmax'))"
      ],
      "execution_count": 0,
      "outputs": []
    },
    {
      "metadata": {
        "id": "sYF6P8SJoLC2",
        "colab_type": "code",
        "outputId": "947df147-c018-47b6-e98f-16f5f26539d9",
        "colab": {
          "base_uri": "https://localhost:8080/",
          "height": 442
        }
      },
      "cell_type": "code",
      "source": [
        "v1.summary()"
      ],
      "execution_count": 0,
      "outputs": [
        {
          "output_type": "stream",
          "text": [
            "_________________________________________________________________\n",
            "Layer (type)                 Output Shape              Param #   \n",
            "=================================================================\n",
            "conv2d_3 (Conv2D)            (None, 26, 26, 32)        320       \n",
            "_________________________________________________________________\n",
            "max_pooling2d_2 (MaxPooling2 (None, 13, 13, 32)        0         \n",
            "_________________________________________________________________\n",
            "conv2d_4 (Conv2D)            (None, 11, 11, 64)        18496     \n",
            "_________________________________________________________________\n",
            "max_pooling2d_3 (MaxPooling2 (None, 5, 5, 64)          0         \n",
            "_________________________________________________________________\n",
            "conv2d_5 (Conv2D)            (None, 3, 5, 64)          12352     \n",
            "_________________________________________________________________\n",
            "conv2d_6 (Conv2D)            (None, 3, 3, 64)          12352     \n",
            "_________________________________________________________________\n",
            "flatten_1 (Flatten)          (None, 576)               0         \n",
            "_________________________________________________________________\n",
            "dense_2 (Dense)              (None, 64)                36928     \n",
            "_________________________________________________________________\n",
            "dense_3 (Dense)              (None, 10)                650       \n",
            "=================================================================\n",
            "Total params: 81,098\n",
            "Trainable params: 81,098\n",
            "Non-trainable params: 0\n",
            "_________________________________________________________________\n"
          ],
          "name": "stdout"
        }
      ]
    },
    {
      "metadata": {
        "id": "tdwBYblrrBYG",
        "colab_type": "text"
      },
      "cell_type": "markdown",
      "source": [
        "Even in the simplistic case of using 3 x 3 filters and replacing only 1 convolutional layer, we obtain ~10% reduction in the number of parameters. This advantage is magnified in larger networks and in case of larger filter sizes."
      ]
    },
    {
      "metadata": {
        "id": "6_b-Q7yuoMqw",
        "colab_type": "code",
        "outputId": "51402c79-4bb3-477c-8c15-f7525e5612dd",
        "colab": {
          "base_uri": "https://localhost:8080/",
          "height": 187
        }
      },
      "cell_type": "code",
      "source": [
        "v1.compile(optimizer='adam',\n",
        "              loss='sparse_categorical_crossentropy',\n",
        "              metrics=['accuracy'])\n",
        "\n",
        "_ = v1.fit(train_images, train_labels, epochs=5)"
      ],
      "execution_count": 0,
      "outputs": [
        {
          "output_type": "stream",
          "text": [
            "Epoch 1/5\n",
            "60000/60000 [==============================] - 18s 297us/sample - loss: 0.1555 - acc: 0.9525\n",
            "Epoch 2/5\n",
            "60000/60000 [==============================] - 18s 292us/sample - loss: 0.0490 - acc: 0.9845\n",
            "Epoch 3/5\n",
            "60000/60000 [==============================] - 18s 293us/sample - loss: 0.0352 - acc: 0.9889\n",
            "Epoch 4/5\n",
            "60000/60000 [==============================] - 17s 291us/sample - loss: 0.0276 - acc: 0.9908\n",
            "Epoch 5/5\n",
            "60000/60000 [==============================] - 17s 291us/sample - loss: 0.0234 - acc: 0.9926\n"
          ],
          "name": "stdout"
        }
      ]
    },
    {
      "metadata": {
        "id": "QDfjntAwoPDn",
        "colab_type": "code",
        "outputId": "a98fe29e-c53c-4360-da66-299fcf437ec2",
        "colab": {
          "base_uri": "https://localhost:8080/",
          "height": 51
        }
      },
      "cell_type": "code",
      "source": [
        "_, test_acc = v1.evaluate(test_images, test_labels)\n",
        "\n",
        "print(test_acc)"
      ],
      "execution_count": 0,
      "outputs": [
        {
          "output_type": "stream",
          "text": [
            "10000/10000 [==============================] - 1s 112us/sample - loss: 0.0280 - acc: 0.9914\n",
            "0.9914\n"
          ],
          "name": "stdout"
        }
      ]
    },
    {
      "metadata": {
        "id": "IiAglMtc4osM",
        "colab_type": "text"
      },
      "cell_type": "markdown",
      "source": [
        "It is evident that even with the reduction in the number of parameters, we attain a similar level of accuraccy."
      ]
    }
  ]
}
